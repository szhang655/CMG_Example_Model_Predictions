{
 "cells": [
  {
   "cell_type": "markdown",
   "id": "a9f4f996",
   "metadata": {},
   "source": [
    "# Set up environment"
   ]
  },
  {
   "cell_type": "code",
   "execution_count": null,
   "id": "24a88278",
   "metadata": {},
   "outputs": [],
   "source": [
    "!pip install foundry-ml\n",
    "!pip install pandas==1.3.5"
   ]
  },
  {
   "cell_type": "code",
   "execution_count": null,
   "id": "8fef6cd2",
   "metadata": {},
   "outputs": [],
   "source": [
    "import pandas as pd\n",
    "from dlhub_sdk.client import DLHubClient"
   ]
  },
  {
   "cell_type": "markdown",
   "id": "5d33aeb0",
   "metadata": {},
   "source": [
    "# Testing Model"
   ]
  },
  {
   "cell_type": "code",
   "execution_count": null,
   "id": "45d34efb",
   "metadata": {},
   "outputs": [],
   "source": [
    "df = pd.read_csv(\"train.csv\")\n",
    "X_Comp = pd.DataFrame(df['Composition'])"
   ]
  },
  {
   "cell_type": "code",
   "execution_count": null,
   "id": "b3fc690a",
   "metadata": {},
   "outputs": [],
   "source": [
    "input_dict = {'X_test': X_Comp,\n",
    "             'featurize': True,\n",
    "             'featurizer': 'ElementalFeatureGenerator',\n",
    "             'featurize_on': 'Composition',\n",
    "              'composition_df': X_Comp['Composition']\n",
    "             }\n",
    "dlhub_servable = 'None/Lmax_prediction_v1.0'\n",
    "pred_df = DLHubClient().run(name=dlhub_servable, inputs=input_dict, debug=False, validate_input=False)\n",
    "pred_df"
   ]
  }
 ],
 "metadata": {
  "kernelspec": {
   "display_name": "Python 3 (ipykernel)",
   "language": "python",
   "name": "python3"
  },
  "language_info": {
   "codemirror_mode": {
    "name": "ipython",
    "version": 3
   },
   "file_extension": ".py",
   "mimetype": "text/x-python",
   "name": "python",
   "nbconvert_exporter": "python",
   "pygments_lexer": "ipython3",
   "version": "3.9.13"
  }
 },
 "nbformat": 4,
 "nbformat_minor": 5
}
