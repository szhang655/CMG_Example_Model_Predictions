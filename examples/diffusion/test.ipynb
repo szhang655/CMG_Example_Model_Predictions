{
 "cells": [
  {
   "cell_type": "markdown",
   "metadata": {
    "id": "MSKn3UTMT6FZ"
   },
   "source": [
    "# Set up environment"
   ]
  },
  {
   "cell_type": "code",
   "execution_count": 2,
   "metadata": {
    "colab": {
     "base_uri": "https://localhost:8080/"
    },
    "id": "sfFk42m0XI6b",
    "outputId": "2a0da4aa-a4d8-49e2-f749-edc1114dfc5f"
   },
   "outputs": [
    {
     "name": "stdout",
     "output_type": "stream",
     "text": [
      "Defaulting to user installation because normal site-packages is not writeable\n",
      "Requirement already satisfied: foundry-ml in /home/nerve/.local/lib/python3.10/site-packages (0.5.0)\n",
      "Requirement already satisfied: mdf-forge>=0.8.0 in /home/nerve/.local/lib/python3.10/site-packages (from foundry-ml) (0.8.0)\n",
      "Requirement already satisfied: globus-sdk<4,>=3 in /home/nerve/.local/lib/python3.10/site-packages (from foundry-ml) (3.16.0)\n",
      "Requirement already satisfied: dlhub-sdk>=1.0.0 in /home/nerve/.local/lib/python3.10/site-packages (from foundry-ml) (1.1.1)\n",
      "Requirement already satisfied: numpy>=1.15.4 in /home/nerve/.local/lib/python3.10/site-packages (from foundry-ml) (1.23.5)\n",
      "Requirement already satisfied: pandas>=0.23.4 in /home/nerve/.local/lib/python3.10/site-packages (from foundry-ml) (1.5.3)\n",
      "Requirement already satisfied: pydantic>=1.4 in /home/nerve/.local/lib/python3.10/site-packages (from foundry-ml) (1.10.4)\n",
      "Requirement already satisfied: mdf-connect-client>=0.4.0 in /home/nerve/.local/lib/python3.10/site-packages (from foundry-ml) (0.4.0)\n",
      "Requirement already satisfied: h5py>=2.10.0 in /home/nerve/.local/lib/python3.10/site-packages (from foundry-ml) (3.8.0)\n",
      "Requirement already satisfied: json2table in /home/nerve/.local/lib/python3.10/site-packages (from foundry-ml) (1.1.5)\n",
      "Requirement already satisfied: requests>=2.24.0 in /home/nerve/.local/lib/python3.10/site-packages (from dlhub-sdk>=1.0.0->foundry-ml) (2.28.2)\n",
      "Requirement already satisfied: mdf-toolbox>=0.5.4 in /home/nerve/.local/lib/python3.10/site-packages (from dlhub-sdk>=1.0.0->foundry-ml) (0.6.0)\n",
      "Requirement already satisfied: jsonschema>=3.2.0 in /home/nerve/.local/lib/python3.10/site-packages (from dlhub-sdk>=1.0.0->foundry-ml) (4.17.3)\n",
      "Requirement already satisfied: funcx>=1.0.0 in /home/nerve/.local/lib/python3.10/site-packages (from dlhub-sdk>=1.0.0->foundry-ml) (1.0.10)\n",
      "Requirement already satisfied: pyjwt[crypto]<3.0.0,>=2.0.0 in /usr/lib/python3/dist-packages (from globus-sdk<4,>=3->foundry-ml) (2.3.0)\n",
      "Requirement already satisfied: cryptography!=3.4.0,>=3.3.1 in /usr/lib/python3/dist-packages (from globus-sdk<4,>=3->foundry-ml) (3.4.8)\n",
      "Requirement already satisfied: nameparser>=1.0.4 in /home/nerve/.local/lib/python3.10/site-packages (from mdf-connect-client>=0.4.0->foundry-ml) (1.1.2)\n",
      "Requirement already satisfied: tqdm>=4.19.4 in /home/nerve/.local/lib/python3.10/site-packages (from mdf-forge>=0.8.0->foundry-ml) (4.64.1)\n",
      "Requirement already satisfied: python-dateutil>=2.8.1 in /home/nerve/.local/lib/python3.10/site-packages (from pandas>=0.23.4->foundry-ml) (2.8.2)\n",
      "Requirement already satisfied: pytz>=2020.1 in /usr/lib/python3/dist-packages (from pandas>=0.23.4->foundry-ml) (2022.1)\n",
      "Requirement already satisfied: typing-extensions>=4.2.0 in /home/nerve/.local/lib/python3.10/site-packages (from pydantic>=1.4->foundry-ml) (4.4.0)\n",
      "Requirement already satisfied: websockets==10.3 in /home/nerve/.local/lib/python3.10/site-packages (from funcx>=1.0.0->dlhub-sdk>=1.0.0->foundry-ml) (10.3)\n",
      "Requirement already satisfied: dill==0.3.5.1 in /home/nerve/.local/lib/python3.10/site-packages (from funcx>=1.0.0->dlhub-sdk>=1.0.0->foundry-ml) (0.3.5.1)\n",
      "Requirement already satisfied: packaging>=21.1 in /home/nerve/.local/lib/python3.10/site-packages (from funcx>=1.0.0->dlhub-sdk>=1.0.0->foundry-ml) (23.0)\n",
      "Requirement already satisfied: pika>=1.2 in /home/nerve/.local/lib/python3.10/site-packages (from funcx>=1.0.0->dlhub-sdk>=1.0.0->foundry-ml) (1.3.1)\n",
      "Requirement already satisfied: funcx-common==0.0.24 in /home/nerve/.local/lib/python3.10/site-packages (from funcx>=1.0.0->dlhub-sdk>=1.0.0->foundry-ml) (0.0.24)\n",
      "Requirement already satisfied: tblib==1.7.0 in /home/nerve/.local/lib/python3.10/site-packages (from funcx>=1.0.0->dlhub-sdk>=1.0.0->foundry-ml) (1.7.0)\n",
      "Requirement already satisfied: texttable>=1.6.7 in /home/nerve/.local/lib/python3.10/site-packages (from funcx>=1.0.0->dlhub-sdk>=1.0.0->foundry-ml) (1.6.7)\n",
      "Requirement already satisfied: attrs>=17.4.0 in /home/nerve/.local/lib/python3.10/site-packages (from jsonschema>=3.2.0->dlhub-sdk>=1.0.0->foundry-ml) (22.2.0)\n",
      "Requirement already satisfied: pyrsistent!=0.17.0,!=0.17.1,!=0.17.2,>=0.14.0 in /home/nerve/.local/lib/python3.10/site-packages (from jsonschema>=3.2.0->dlhub-sdk>=1.0.0->foundry-ml) (0.19.3)\n",
      "Requirement already satisfied: fair-research-login>=0.2.4 in /home/nerve/.local/lib/python3.10/site-packages (from mdf-toolbox>=0.5.4->dlhub-sdk>=1.0.0->foundry-ml) (0.3.0)\n",
      "Requirement already satisfied: globus-nexus-client>=0.4.1 in /home/nerve/.local/lib/python3.10/site-packages (from mdf-toolbox>=0.5.4->dlhub-sdk>=1.0.0->foundry-ml) (0.4.1)\n",
      "Collecting jsonschema>=3.2.0 (from dlhub-sdk>=1.0.0->foundry-ml)\n",
      "  Using cached jsonschema-4.3.0-py3-none-any.whl (71 kB)\n",
      "Requirement already satisfied: six>=1.5 in /usr/lib/python3/dist-packages (from python-dateutil>=2.8.1->pandas>=0.23.4->foundry-ml) (1.16.0)\n",
      "Requirement already satisfied: charset-normalizer<4,>=2 in /home/nerve/.local/lib/python3.10/site-packages (from requests>=2.24.0->dlhub-sdk>=1.0.0->foundry-ml) (3.0.1)\n",
      "Requirement already satisfied: idna<4,>=2.5 in /usr/lib/python3/dist-packages (from requests>=2.24.0->dlhub-sdk>=1.0.0->foundry-ml) (3.3)\n",
      "Requirement already satisfied: urllib3<1.27,>=1.21.1 in /usr/lib/python3/dist-packages (from requests>=2.24.0->dlhub-sdk>=1.0.0->foundry-ml) (1.26.5)\n",
      "Requirement already satisfied: certifi>=2017.4.17 in /usr/lib/python3/dist-packages (from requests>=2.24.0->dlhub-sdk>=1.0.0->foundry-ml) (2020.6.20)\n",
      "Installing collected packages: jsonschema\n",
      "  Attempting uninstall: jsonschema\n",
      "    Found existing installation: jsonschema 4.17.3\n",
      "    Uninstalling jsonschema-4.17.3:\n",
      "      Successfully uninstalled jsonschema-4.17.3\n",
      "\u001b[31mERROR: pip's dependency resolver does not currently take into account all the packages that are installed. This behaviour is the source of the following dependency conflicts.\n",
      "jupyterlab-server 2.19.0 requires jsonschema>=4.17.3, but you have jsonschema 4.3.0 which is incompatible.\u001b[0m\u001b[31m\n",
      "\u001b[0mSuccessfully installed jsonschema-4.3.0\n",
      "\n",
      "\u001b[1m[\u001b[0m\u001b[34;49mnotice\u001b[0m\u001b[1;39;49m]\u001b[0m\u001b[39;49m A new release of pip is available: \u001b[0m\u001b[31;49m23.1\u001b[0m\u001b[39;49m -> \u001b[0m\u001b[32;49m23.1.2\u001b[0m\n",
      "\u001b[1m[\u001b[0m\u001b[34;49mnotice\u001b[0m\u001b[1;39;49m]\u001b[0m\u001b[39;49m To update, run: \u001b[0m\u001b[32;49mpython3 -m pip install --upgrade pip\u001b[0m\n"
     ]
    }
   ],
   "source": [
    "# Install Foundry\n",
    "!pip install foundry-ml"
   ]
  },
  {
   "cell_type": "code",
   "execution_count": 7,
   "metadata": {
    "id": "OLCa6U-xUZSa"
   },
   "outputs": [],
   "source": [
    "# Import some generally useful modules\n",
    "from dlhub_sdk.client import DLHubClient\n",
    "from foundry import Foundry\n",
    "import pandas as pd"
   ]
  },
  {
   "cell_type": "markdown",
   "metadata": {
    "id": "JZjEYg2_SYqD"
   },
   "source": [
    "# Data+Model Template: Diffusion data and model"
   ]
  },
  {
   "cell_type": "markdown",
   "metadata": {
    "id": "YtY_pXgHU7XJ"
   },
   "source": [
    "## Get and show diffusion data\n",
    "\n"
   ]
  },
  {
   "cell_type": "markdown",
   "metadata": {
    "id": "gwRNY3AXWXE3"
   },
   "source": [
    "* Dataset 19\n",
    "* Relevant reference: H. J. Lu, N. Zou, R. Jacobs, B. Afflerbach, X. G. Lu, and D. Morgan, Error assessment and optimal cross-validation approaches in machine learning applied to impurity diffusion, Computational Materials Science 169 (July) (2019). https://doi.org/10.1016/j.commatsci.2019.06.010\n",
    "* Data DOI: 10.18126/uppe-p8p1 \n"
   ]
  },
  {
   "cell_type": "code",
   "execution_count": 4,
   "metadata": {
    "colab": {
     "base_uri": "https://localhost:8080/"
    },
    "id": "cIhnvzKLW3zF",
    "outputId": "fa6cffb3-8be3-4f4c-86a0-50ca7e713256"
   },
   "outputs": [
    {
     "name": "stdout",
     "output_type": "stream",
     "text": [
      "{'train': (    Material compositions 1 Material compositions 2\n",
      "0                        Ag                      Ag\n",
      "1                        Ag                      Co\n",
      "2                        Ag                      Cr\n",
      "3                        Ag                      Cu\n",
      "4                        Ag                      Fe\n",
      "..                      ...                     ...\n",
      "403                      Zr                      Nb\n",
      "404                      Zr                      Ta\n",
      "405                      Zr                      Ti\n",
      "406                      Zr                      Hf\n",
      "407                      Zr                      Sn\n",
      "\n",
      "[408 rows x 2 columns],      E_regression_shift\n",
      "0              0.000000\n",
      "1             -0.090142\n",
      "2              0.259139\n",
      "3             -0.022200\n",
      "4              0.317672\n",
      "..                  ...\n",
      "403           -0.067020\n",
      "404            0.153850\n",
      "405            0.248110\n",
      "406            0.204140\n",
      "407            0.248040\n",
      "\n",
      "[408 rows x 1 columns])}\n",
      "    Material compositions 1 Material compositions 2\n",
      "0                        Ag                      Ag\n",
      "1                        Ag                      Co\n",
      "2                        Ag                      Cr\n",
      "3                        Ag                      Cu\n",
      "4                        Ag                      Fe\n",
      "..                      ...                     ...\n",
      "403                      Zr                      Nb\n",
      "404                      Zr                      Ta\n",
      "405                      Zr                      Ti\n",
      "406                      Zr                      Hf\n",
      "407                      Zr                      Sn\n",
      "\n",
      "[408 rows x 2 columns]\n",
      "     E_regression_shift\n",
      "0              0.000000\n",
      "1             -0.090142\n",
      "2              0.259139\n",
      "3             -0.022200\n",
      "4              0.317672\n",
      "..                  ...\n",
      "403           -0.067020\n",
      "404            0.153850\n",
      "405            0.248110\n",
      "406            0.204140\n",
      "407            0.248040\n",
      "\n",
      "[408 rows x 1 columns]\n"
     ]
    }
   ],
   "source": [
    "# Load and print out data\n",
    "f = Foundry(index=\"mdf\")\n",
    "data = f.load('diffusion_v1.4', globus=False).load_data()\n",
    "print(data)\n",
    "X = data['train'][0]  # Features pre-generation\n",
    "y = data['train'][1]  # Target variable\n",
    "print(X)\n",
    "print(y)"
   ]
  },
  {
   "cell_type": "markdown",
   "metadata": {
    "id": "1ZS2ch2BTtnP"
   },
   "source": [
    "## Get and show diffusion model\n",
    "* Name: Ryan Jacobs\n",
    "* Email: rjacobs3@wisc.edu\n",
    "* Relevant reference: H. J. Lu, N. Zou, R. Jacobs, B. Afflerbach, X. G. Lu, and D. Morgan, Error assessment and optimal cross-validation approaches in machine learning applied to impurity diffusion, Computational Materials Science 169 (July) (2019). https://doi.org/10.1016/j.commatsci.2019.06.010\n",
    "* Date added/last modified in this notebook: 10/18/22\n",
    "* Foundry hosted data link: https://foundry-ml.org/#/datasets/10.18126%2Fuppe-p8p1\n",
    "* Foundry hosted data DOI: 10.18126/uppe-p8p1 "
   ]
  },
  {
   "cell_type": "code",
   "execution_count": 5,
   "metadata": {
    "colab": {
     "base_uri": "https://localhost:8080/"
    },
    "id": "nfW0wqY44XS9",
    "outputId": "7306d058-66d4-415f-b53d-9c9a71a027ae"
   },
   "outputs": [
    {
     "name": "stdout",
     "output_type": "stream",
     "text": [
      "Servible Name (if availble):  rjacobs3_wisc/MASTML_Tutorial_Model_2022-10-18_v2\n",
      "Servible Datacite (if availble):  10.datacite/placeholder\n",
      "Servible DOI (if availble):  DOI\n"
     ]
    }
   ],
   "source": [
    "# Set servable to work with\n",
    "# Note that this first line should generate a link and the link \"Please Paste your Auth Code Below:\" with an box to enter your code from the link.\n",
    "dlhub_servable = 'rjacobs3_wisc/MASTML_Tutorial_Model_DLHub_v100_2022-10-13'\n",
    "# Pring out servable info\n",
    "desc=DLHubClient().describe_servable(dlhub_servable)\n",
    "#desc[\"servable\"].keys()\n",
    "print('Servible Name (if availble): ', desc['dlhub']['shorthand_name'])\n",
    "print('Servible Datacite (if availble): ', desc['datacite']['identifier']['identifier'])\n",
    "print('Servible DOI (if availble): ', desc['datacite']['identifier']['identifierType'])"
   ]
  },
  {
   "cell_type": "code",
   "execution_count": null,
   "metadata": {
    "colab": {
     "base_uri": "https://localhost:8080/",
     "height": 206
    },
    "id": "d10Z8GZnSacS",
    "outputId": "4cd216aa-2276-43d0-dcba-5e442cc11f9d"
   },
   "outputs": [],
   "source": [
    "# This model takes as input 2 elements, the first is the host and the second is an impurity, and it returns the activation energy for impurity diffusion.\n",
    "# For example, the input CuAg gives the activation energy of dilute Ag in a Cu host.\n",
    "X_test = pd.DataFrame({'Material compositions joined': ['CuAl', 'NiAl', 'HeH', 'NiSi', 'PtPd']})\n",
    "# Info on input format\n",
    "# DLHubClient().describe_servable(dlhub_servable)\n",
    "input_dict = {'X_test': X_test, #X_test_Ag_nofeatures\n",
    "              'X_test_extra': X_test, #X_extra_Ag\n",
    "             'featurize': True,\n",
    "             'featurizer': 'ElementalFeatureGenerator',\n",
    "             'featurize_on': 'Material compositions joined',\n",
    "              'composition_df': X_test['Material compositions joined'] #X_test_Ag_nofeatures['Material compositions joined']\n",
    "             }\n",
    "#dlhub_servable = MY_USERNAME+'/'+model_name\n",
    "pred_df = DLHubClient().run(name=dlhub_servable, inputs=input_dict, debug=False, validate_input=False)\n",
    "pred_df"
   ]
  }
 ],
 "metadata": {
  "colab": {
   "provenance": []
  },
  "kernelspec": {
   "display_name": "Python 3 (ipykernel)",
   "language": "python",
   "name": "python3"
  },
  "language_info": {
   "codemirror_mode": {
    "name": "ipython",
    "version": 3
   },
   "file_extension": ".py",
   "mimetype": "text/x-python",
   "name": "python",
   "nbconvert_exporter": "python",
   "pygments_lexer": "ipython3",
   "version": "3.10.6"
  }
 },
 "nbformat": 4,
 "nbformat_minor": 1
}
