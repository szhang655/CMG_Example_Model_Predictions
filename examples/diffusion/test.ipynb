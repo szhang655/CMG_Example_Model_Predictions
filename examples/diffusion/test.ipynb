{
 "cells": [
  {
   "cell_type": "markdown",
   "metadata": {
    "id": "MSKn3UTMT6FZ"
   },
   "source": [
    "# Set up environment"
   ]
  },
  {
   "cell_type": "code",
   "execution_count": 1,
   "metadata": {
    "colab": {
     "base_uri": "https://localhost:8080/"
    },
    "id": "sfFk42m0XI6b",
    "outputId": "2a0da4aa-a4d8-49e2-f749-edc1114dfc5f"
   },
   "outputs": [
    {
     "name": "stdout",
     "output_type": "stream",
     "text": [
      "Defaulting to user installation because normal site-packages is not writeable\n",
      "Requirement already satisfied: foundry-ml in /home/nerve/.local/lib/python3.10/site-packages (0.5.0)\n",
      "Requirement already satisfied: mdf-forge>=0.8.0 in /home/nerve/.local/lib/python3.10/site-packages (from foundry-ml) (0.8.0)\n",
      "Requirement already satisfied: globus-sdk<4,>=3 in /home/nerve/.local/lib/python3.10/site-packages (from foundry-ml) (3.16.0)\n",
      "Requirement already satisfied: dlhub-sdk>=1.0.0 in /home/nerve/.local/lib/python3.10/site-packages (from foundry-ml) (1.1.1)\n",
      "Requirement already satisfied: numpy>=1.15.4 in /home/nerve/.local/lib/python3.10/site-packages (from foundry-ml) (1.23.5)\n",
      "Requirement already satisfied: pandas>=0.23.4 in /home/nerve/.local/lib/python3.10/site-packages (from foundry-ml) (1.5.3)\n",
      "Requirement already satisfied: pydantic>=1.4 in /home/nerve/.local/lib/python3.10/site-packages (from foundry-ml) (1.10.4)\n",
      "Requirement already satisfied: mdf-connect-client>=0.4.0 in /home/nerve/.local/lib/python3.10/site-packages (from foundry-ml) (0.4.0)\n",
      "Requirement already satisfied: h5py>=2.10.0 in /home/nerve/.local/lib/python3.10/site-packages (from foundry-ml) (3.8.0)\n",
      "Requirement already satisfied: json2table in /home/nerve/.local/lib/python3.10/site-packages (from foundry-ml) (1.1.5)\n",
      "Requirement already satisfied: requests>=2.24.0 in /home/nerve/.local/lib/python3.10/site-packages (from dlhub-sdk>=1.0.0->foundry-ml) (2.28.2)\n",
      "Requirement already satisfied: mdf-toolbox>=0.5.4 in /home/nerve/.local/lib/python3.10/site-packages (from dlhub-sdk>=1.0.0->foundry-ml) (0.6.0)\n",
      "Requirement already satisfied: jsonschema>=3.2.0 in /home/nerve/.local/lib/python3.10/site-packages (from dlhub-sdk>=1.0.0->foundry-ml) (4.3.0)\n",
      "Requirement already satisfied: funcx>=1.0.0 in /home/nerve/.local/lib/python3.10/site-packages (from dlhub-sdk>=1.0.0->foundry-ml) (1.0.10)\n",
      "Requirement already satisfied: pyjwt[crypto]<3.0.0,>=2.0.0 in /usr/lib/python3/dist-packages (from globus-sdk<4,>=3->foundry-ml) (2.3.0)\n",
      "Requirement already satisfied: cryptography!=3.4.0,>=3.3.1 in /usr/lib/python3/dist-packages (from globus-sdk<4,>=3->foundry-ml) (3.4.8)\n",
      "Requirement already satisfied: nameparser>=1.0.4 in /home/nerve/.local/lib/python3.10/site-packages (from mdf-connect-client>=0.4.0->foundry-ml) (1.1.2)\n",
      "Requirement already satisfied: tqdm>=4.19.4 in /home/nerve/.local/lib/python3.10/site-packages (from mdf-forge>=0.8.0->foundry-ml) (4.64.1)\n",
      "Requirement already satisfied: python-dateutil>=2.8.1 in /home/nerve/.local/lib/python3.10/site-packages (from pandas>=0.23.4->foundry-ml) (2.8.2)\n",
      "Requirement already satisfied: pytz>=2020.1 in /usr/lib/python3/dist-packages (from pandas>=0.23.4->foundry-ml) (2022.1)\n",
      "Requirement already satisfied: typing-extensions>=4.2.0 in /home/nerve/.local/lib/python3.10/site-packages (from pydantic>=1.4->foundry-ml) (4.4.0)\n",
      "Requirement already satisfied: websockets==10.3 in /home/nerve/.local/lib/python3.10/site-packages (from funcx>=1.0.0->dlhub-sdk>=1.0.0->foundry-ml) (10.3)\n",
      "Requirement already satisfied: dill==0.3.5.1 in /home/nerve/.local/lib/python3.10/site-packages (from funcx>=1.0.0->dlhub-sdk>=1.0.0->foundry-ml) (0.3.5.1)\n",
      "Requirement already satisfied: packaging>=21.1 in /home/nerve/.local/lib/python3.10/site-packages (from funcx>=1.0.0->dlhub-sdk>=1.0.0->foundry-ml) (23.0)\n",
      "Requirement already satisfied: pika>=1.2 in /home/nerve/.local/lib/python3.10/site-packages (from funcx>=1.0.0->dlhub-sdk>=1.0.0->foundry-ml) (1.3.1)\n",
      "Requirement already satisfied: funcx-common==0.0.24 in /home/nerve/.local/lib/python3.10/site-packages (from funcx>=1.0.0->dlhub-sdk>=1.0.0->foundry-ml) (0.0.24)\n",
      "Requirement already satisfied: tblib==1.7.0 in /home/nerve/.local/lib/python3.10/site-packages (from funcx>=1.0.0->dlhub-sdk>=1.0.0->foundry-ml) (1.7.0)\n",
      "Requirement already satisfied: texttable>=1.6.7 in /home/nerve/.local/lib/python3.10/site-packages (from funcx>=1.0.0->dlhub-sdk>=1.0.0->foundry-ml) (1.6.7)\n",
      "Requirement already satisfied: attrs>=17.4.0 in /home/nerve/.local/lib/python3.10/site-packages (from jsonschema>=3.2.0->dlhub-sdk>=1.0.0->foundry-ml) (22.2.0)\n",
      "Requirement already satisfied: pyrsistent!=0.17.0,!=0.17.1,!=0.17.2,>=0.14.0 in /home/nerve/.local/lib/python3.10/site-packages (from jsonschema>=3.2.0->dlhub-sdk>=1.0.0->foundry-ml) (0.19.3)\n",
      "Requirement already satisfied: fair-research-login>=0.2.4 in /home/nerve/.local/lib/python3.10/site-packages (from mdf-toolbox>=0.5.4->dlhub-sdk>=1.0.0->foundry-ml) (0.3.0)\n",
      "Requirement already satisfied: globus-nexus-client>=0.4.1 in /home/nerve/.local/lib/python3.10/site-packages (from mdf-toolbox>=0.5.4->dlhub-sdk>=1.0.0->foundry-ml) (0.4.1)\n",
      "Requirement already satisfied: six>=1.5 in /usr/lib/python3/dist-packages (from python-dateutil>=2.8.1->pandas>=0.23.4->foundry-ml) (1.16.0)\n",
      "Requirement already satisfied: charset-normalizer<4,>=2 in /home/nerve/.local/lib/python3.10/site-packages (from requests>=2.24.0->dlhub-sdk>=1.0.0->foundry-ml) (3.0.1)\n",
      "Requirement already satisfied: idna<4,>=2.5 in /usr/lib/python3/dist-packages (from requests>=2.24.0->dlhub-sdk>=1.0.0->foundry-ml) (3.3)\n",
      "Requirement already satisfied: urllib3<1.27,>=1.21.1 in /usr/lib/python3/dist-packages (from requests>=2.24.0->dlhub-sdk>=1.0.0->foundry-ml) (1.26.5)\n",
      "Requirement already satisfied: certifi>=2017.4.17 in /usr/lib/python3/dist-packages (from requests>=2.24.0->dlhub-sdk>=1.0.0->foundry-ml) (2020.6.20)\n",
      "\n",
      "\u001b[1m[\u001b[0m\u001b[34;49mnotice\u001b[0m\u001b[1;39;49m]\u001b[0m\u001b[39;49m A new release of pip is available: \u001b[0m\u001b[31;49m23.1\u001b[0m\u001b[39;49m -> \u001b[0m\u001b[32;49m23.1.2\u001b[0m\n",
      "\u001b[1m[\u001b[0m\u001b[34;49mnotice\u001b[0m\u001b[1;39;49m]\u001b[0m\u001b[39;49m To update, run: \u001b[0m\u001b[32;49mpython3 -m pip install --upgrade pip\u001b[0m\n"
     ]
    }
   ],
   "source": [
    "# Install Foundry\n",
    "!pip install foundry-ml pandas==1.3.5"
   ]
  },
  {
   "cell_type": "code",
   "execution_count": 2,
   "metadata": {
    "id": "OLCa6U-xUZSa"
   },
   "outputs": [],
   "source": [
    "# Import some generally useful modules\n",
    "from dlhub_sdk.client import DLHubClient\n",
    "from foundry import Foundry\n",
    "import pandas as pd"
   ]
  },
  {
   "cell_type": "markdown",
   "metadata": {
    "id": "JZjEYg2_SYqD"
   },
   "source": [
    "# Data+Model Template: Diffusion data and model"
   ]
  },
  {
   "cell_type": "markdown",
   "metadata": {
    "id": "YtY_pXgHU7XJ"
   },
   "source": [
    "## Get and show diffusion data\n",
    "\n"
   ]
  },
  {
   "cell_type": "markdown",
   "metadata": {
    "id": "gwRNY3AXWXE3"
   },
   "source": [
    "* Dataset 19\n",
    "* Relevant reference: H. J. Lu, N. Zou, R. Jacobs, B. Afflerbach, X. G. Lu, and D. Morgan, Error assessment and optimal cross-validation approaches in machine learning applied to impurity diffusion, Computational Materials Science 169 (July) (2019). https://doi.org/10.1016/j.commatsci.2019.06.010\n",
    "* Data DOI: 10.18126/uppe-p8p1 \n"
   ]
  },
  {
   "cell_type": "code",
   "execution_count": 3,
   "metadata": {
    "colab": {
     "base_uri": "https://localhost:8080/"
    },
    "id": "cIhnvzKLW3zF",
    "outputId": "fa6cffb3-8be3-4f4c-86a0-50ca7e713256"
   },
   "outputs": [
    {
     "name": "stdout",
     "output_type": "stream",
     "text": [
      "{'train': (    Material compositions 1 Material compositions 2\n",
      "0                        Ag                      Ag\n",
      "1                        Ag                      Co\n",
      "2                        Ag                      Cr\n",
      "3                        Ag                      Cu\n",
      "4                        Ag                      Fe\n",
      "..                      ...                     ...\n",
      "403                      Zr                      Nb\n",
      "404                      Zr                      Ta\n",
      "405                      Zr                      Ti\n",
      "406                      Zr                      Hf\n",
      "407                      Zr                      Sn\n",
      "\n",
      "[408 rows x 2 columns],      E_regression_shift\n",
      "0              0.000000\n",
      "1             -0.090142\n",
      "2              0.259139\n",
      "3             -0.022200\n",
      "4              0.317672\n",
      "..                  ...\n",
      "403           -0.067020\n",
      "404            0.153850\n",
      "405            0.248110\n",
      "406            0.204140\n",
      "407            0.248040\n",
      "\n",
      "[408 rows x 1 columns])}\n",
      "    Material compositions 1 Material compositions 2\n",
      "0                        Ag                      Ag\n",
      "1                        Ag                      Co\n",
      "2                        Ag                      Cr\n",
      "3                        Ag                      Cu\n",
      "4                        Ag                      Fe\n",
      "..                      ...                     ...\n",
      "403                      Zr                      Nb\n",
      "404                      Zr                      Ta\n",
      "405                      Zr                      Ti\n",
      "406                      Zr                      Hf\n",
      "407                      Zr                      Sn\n",
      "\n",
      "[408 rows x 2 columns]\n",
      "     E_regression_shift\n",
      "0              0.000000\n",
      "1             -0.090142\n",
      "2              0.259139\n",
      "3             -0.022200\n",
      "4              0.317672\n",
      "..                  ...\n",
      "403           -0.067020\n",
      "404            0.153850\n",
      "405            0.248110\n",
      "406            0.204140\n",
      "407            0.248040\n",
      "\n",
      "[408 rows x 1 columns]\n"
     ]
    }
   ],
   "source": [
    "# Load and print out data\n",
    "f = Foundry(index=\"mdf\")\n",
    "data = f.load('diffusion_v1.4', globus=False).load_data()\n",
    "print(data)\n",
    "X = data['train'][0]  # Features pre-generation\n",
    "y = data['train'][1]  # Target variable\n",
    "print(X)\n",
    "print(y)"
   ]
  },
  {
   "cell_type": "markdown",
   "metadata": {
    "id": "1ZS2ch2BTtnP"
   },
   "source": [
    "## Get and show diffusion model\n",
    "* Name: Ryan Jacobs\n",
    "* Email: rjacobs3@wisc.edu\n",
    "* Relevant reference: H. J. Lu, N. Zou, R. Jacobs, B. Afflerbach, X. G. Lu, and D. Morgan, Error assessment and optimal cross-validation approaches in machine learning applied to impurity diffusion, Computational Materials Science 169 (July) (2019). https://doi.org/10.1016/j.commatsci.2019.06.010\n",
    "* Date added/last modified in this notebook: 10/18/22\n",
    "* Foundry hosted data link: https://foundry-ml.org/#/datasets/10.18126%2Fuppe-p8p1\n",
    "* Foundry hosted data DOI: 10.18126/uppe-p8p1 "
   ]
  },
  {
   "cell_type": "code",
   "execution_count": 4,
   "metadata": {
    "colab": {
     "base_uri": "https://localhost:8080/"
    },
    "id": "nfW0wqY44XS9",
    "outputId": "7306d058-66d4-415f-b53d-9c9a71a027ae"
   },
   "outputs": [
    {
     "name": "stdout",
     "output_type": "stream",
     "text": [
      "Servible Name (if availble):  rjacobs3_wisc/MASTML_Tutorial_Model_2022-10-18_v2\n",
      "Servible Datacite (if availble):  10.datacite/placeholder\n",
      "Servible DOI (if availble):  DOI\n"
     ]
    }
   ],
   "source": [
    "# Set servable to work with\n",
    "# Note that this first line should generate a link and the link \"Please Paste your Auth Code Below:\" with an box to enter your code from the link.\n",
    "dlhub_servable = 'rjacobs3_wisc/MASTML_Tutorial_Model_DLHub_v100_2022-10-13'\n",
    "# Pring out servable info\n",
    "desc=DLHubClient().describe_servable(dlhub_servable)\n",
    "#desc[\"servable\"].keys()\n",
    "print('Servible Name (if availble): ', desc['dlhub']['shorthand_name'])\n",
    "print('Servible Datacite (if availble): ', desc['datacite']['identifier']['identifier'])\n",
    "print('Servible DOI (if availble): ', desc['datacite']['identifier']['identifierType'])"
   ]
  },
  {
   "cell_type": "code",
   "execution_count": 5,
   "metadata": {
    "colab": {
     "base_uri": "https://localhost:8080/",
     "height": 206
    },
    "id": "d10Z8GZnSacS",
    "outputId": "4cd216aa-2276-43d0-dcba-5e442cc11f9d"
   },
   "outputs": [
    {
     "ename": "FuncxTaskExecutionFailed",
     "evalue": "\n    Traceback (most recent call last):\n      File \"/srv/conda/envs/notebook/lib/python3.7/site-packages/funcx/serialize/facade.py\", line 116, in unpack_and_deserialize\n        deserialized = self.deserialize(current)\n      File \"/srv/conda/envs/notebook/lib/python3.7/site-packages/funcx/serialize/facade.py\", line 69, in deserialize\n        result = self.methods_for_data[header].deserialize(payload)\n      File \"/srv/conda/envs/notebook/lib/python3.7/site-packages/funcx/serialize/concretes.py\", line 29, in deserialize\n        data = dill.loads(codecs.decode(chomped.encode(), \"base64\"))\n      File \"/srv/conda/envs/notebook/lib/python3.7/site-packages/dill/_dill.py\", line 387, in loads\n        return load(file, ignore, **kwds)\n      File \"/srv/conda/envs/notebook/lib/python3.7/site-packages/dill/_dill.py\", line 373, in load\n        return Unpickler(file, ignore=ignore, **kwds).load()\n      File \"/srv/conda/envs/notebook/lib/python3.7/site-packages/dill/_dill.py\", line 646, in load\n        obj = StockUnpickler.load(self)\n      File \"/srv/conda/envs/notebook/lib/python3.7/site-packages/dill/_dill.py\", line 636, in find_class\n        return StockUnpickler.find_class(self, module, name)\n    AttributeError: Can't get attribute '_unpickle_block' on <module 'pandas._libs.internals' from '/srv/conda/envs/notebook/lib/python3.7/site-packages/pandas/_libs/internals.cpython-37m-x86_64-linux-gnu.so'>\n",
     "output_type": "error",
     "traceback": [
      "\u001b[0;31m---------------------------------------------------------------------------\u001b[0m",
      "\u001b[0;31mFuncxTaskExecutionFailed\u001b[0m                  Traceback (most recent call last)",
      "Cell \u001b[0;32mIn[5], line 14\u001b[0m\n\u001b[1;32m      6\u001b[0m input_dict \u001b[38;5;241m=\u001b[39m {\u001b[38;5;124m'\u001b[39m\u001b[38;5;124mX_test\u001b[39m\u001b[38;5;124m'\u001b[39m: X_test, \u001b[38;5;66;03m#X_test_Ag_nofeatures\u001b[39;00m\n\u001b[1;32m      7\u001b[0m               \u001b[38;5;124m'\u001b[39m\u001b[38;5;124mX_test_extra\u001b[39m\u001b[38;5;124m'\u001b[39m: X_test, \u001b[38;5;66;03m#X_extra_Ag\u001b[39;00m\n\u001b[1;32m      8\u001b[0m              \u001b[38;5;124m'\u001b[39m\u001b[38;5;124mfeaturize\u001b[39m\u001b[38;5;124m'\u001b[39m: \u001b[38;5;28;01mTrue\u001b[39;00m,\n\u001b[0;32m   (...)\u001b[0m\n\u001b[1;32m     11\u001b[0m               \u001b[38;5;124m'\u001b[39m\u001b[38;5;124mcomposition_df\u001b[39m\u001b[38;5;124m'\u001b[39m: X_test[\u001b[38;5;124m'\u001b[39m\u001b[38;5;124mMaterial compositions joined\u001b[39m\u001b[38;5;124m'\u001b[39m] \u001b[38;5;66;03m#X_test_Ag_nofeatures['Material compositions joined']\u001b[39;00m\n\u001b[1;32m     12\u001b[0m              }\n\u001b[1;32m     13\u001b[0m \u001b[38;5;66;03m#dlhub_servable = MY_USERNAME+'/'+model_name\u001b[39;00m\n\u001b[0;32m---> 14\u001b[0m pred_df \u001b[38;5;241m=\u001b[39m \u001b[43mDLHubClient\u001b[49m\u001b[43m(\u001b[49m\u001b[43m)\u001b[49m\u001b[38;5;241;43m.\u001b[39;49m\u001b[43mrun\u001b[49m\u001b[43m(\u001b[49m\u001b[43mname\u001b[49m\u001b[38;5;241;43m=\u001b[39;49m\u001b[43mdlhub_servable\u001b[49m\u001b[43m,\u001b[49m\u001b[43m \u001b[49m\u001b[43minputs\u001b[49m\u001b[38;5;241;43m=\u001b[39;49m\u001b[43minput_dict\u001b[49m\u001b[43m,\u001b[49m\u001b[43m \u001b[49m\u001b[43mdebug\u001b[49m\u001b[38;5;241;43m=\u001b[39;49m\u001b[38;5;28;43;01mFalse\u001b[39;49;00m\u001b[43m,\u001b[49m\u001b[43m \u001b[49m\u001b[43mvalidate_input\u001b[49m\u001b[38;5;241;43m=\u001b[39;49m\u001b[38;5;28;43;01mFalse\u001b[39;49;00m\u001b[43m)\u001b[49m\n\u001b[1;32m     15\u001b[0m pred_df\n",
      "File \u001b[0;32m~/.local/lib/python3.10/site-packages/dlhub_sdk/client.py:299\u001b[0m, in \u001b[0;36mDLHubClient.run\u001b[0;34m(self, name, inputs, parameters, asynchronous, debug, validate_input, async_wait, timeout)\u001b[0m\n\u001b[1;32m    297\u001b[0m \u001b[38;5;66;03m# Return the result\u001b[39;00m\n\u001b[1;32m    298\u001b[0m future \u001b[38;5;241m=\u001b[39m DLHubFuture(\u001b[38;5;28mself\u001b[39m, task_id, async_wait, debug)\n\u001b[0;32m--> 299\u001b[0m \u001b[38;5;28;01mreturn\u001b[39;00m \u001b[43mfuture\u001b[49m\u001b[38;5;241;43m.\u001b[39;49m\u001b[43mresult\u001b[49m\u001b[43m(\u001b[49m\u001b[43mtimeout\u001b[49m\u001b[38;5;241;43m=\u001b[39;49m\u001b[43mtimeout\u001b[49m\u001b[43m)\u001b[49m \u001b[38;5;28;01mif\u001b[39;00m \u001b[38;5;129;01mnot\u001b[39;00m asynchronous \u001b[38;5;28;01melse\u001b[39;00m future\n",
      "File \u001b[0;32m/usr/lib/python3.10/concurrent/futures/_base.py:458\u001b[0m, in \u001b[0;36mFuture.result\u001b[0;34m(self, timeout)\u001b[0m\n\u001b[1;32m    456\u001b[0m     \u001b[38;5;28;01mraise\u001b[39;00m CancelledError()\n\u001b[1;32m    457\u001b[0m \u001b[38;5;28;01melif\u001b[39;00m \u001b[38;5;28mself\u001b[39m\u001b[38;5;241m.\u001b[39m_state \u001b[38;5;241m==\u001b[39m FINISHED:\n\u001b[0;32m--> 458\u001b[0m     \u001b[38;5;28;01mreturn\u001b[39;00m \u001b[38;5;28;43mself\u001b[39;49m\u001b[38;5;241;43m.\u001b[39;49m\u001b[43m__get_result\u001b[49m\u001b[43m(\u001b[49m\u001b[43m)\u001b[49m\n\u001b[1;32m    459\u001b[0m \u001b[38;5;28;01melse\u001b[39;00m:\n\u001b[1;32m    460\u001b[0m     \u001b[38;5;28;01mraise\u001b[39;00m \u001b[38;5;167;01mTimeoutError\u001b[39;00m()\n",
      "File \u001b[0;32m/usr/lib/python3.10/concurrent/futures/_base.py:403\u001b[0m, in \u001b[0;36mFuture.__get_result\u001b[0;34m(self)\u001b[0m\n\u001b[1;32m    401\u001b[0m \u001b[38;5;28;01mif\u001b[39;00m \u001b[38;5;28mself\u001b[39m\u001b[38;5;241m.\u001b[39m_exception:\n\u001b[1;32m    402\u001b[0m     \u001b[38;5;28;01mtry\u001b[39;00m:\n\u001b[0;32m--> 403\u001b[0m         \u001b[38;5;28;01mraise\u001b[39;00m \u001b[38;5;28mself\u001b[39m\u001b[38;5;241m.\u001b[39m_exception\n\u001b[1;32m    404\u001b[0m     \u001b[38;5;28;01mfinally\u001b[39;00m:\n\u001b[1;32m    405\u001b[0m         \u001b[38;5;66;03m# Break a reference cycle with the exception in self._exception\u001b[39;00m\n\u001b[1;32m    406\u001b[0m         \u001b[38;5;28mself\u001b[39m \u001b[38;5;241m=\u001b[39m \u001b[38;5;28;01mNone\u001b[39;00m\n",
      "File \u001b[0;32m~/.local/lib/python3.10/site-packages/dlhub_sdk/utils/futures.py:55\u001b[0m, in \u001b[0;36mDLHubFuture.running\u001b[0;34m(self)\u001b[0m\n\u001b[1;32m     52\u001b[0m \u001b[38;5;28;01mif\u001b[39;00m \u001b[38;5;28msuper\u001b[39m()\u001b[38;5;241m.\u001b[39mrunning():\n\u001b[1;32m     53\u001b[0m     \u001b[38;5;66;03m# If the task isn't already completed, check if it is still running\u001b[39;00m\n\u001b[1;32m     54\u001b[0m     \u001b[38;5;28;01mtry\u001b[39;00m:\n\u001b[0;32m---> 55\u001b[0m         results \u001b[38;5;241m=\u001b[39m \u001b[38;5;28;43mself\u001b[39;49m\u001b[38;5;241;43m.\u001b[39;49m\u001b[43mclient\u001b[49m\u001b[38;5;241;43m.\u001b[39;49m\u001b[43mget_result\u001b[49m\u001b[43m(\u001b[49m\u001b[38;5;28;43mself\u001b[39;49m\u001b[38;5;241;43m.\u001b[39;49m\u001b[43mtask_id\u001b[49m\u001b[43m,\u001b[49m\u001b[43m \u001b[49m\u001b[43mverbose\u001b[49m\u001b[38;5;241;43m=\u001b[39;49m\u001b[38;5;28;43;01mTrue\u001b[39;49;00m\u001b[43m)\u001b[49m\n\u001b[1;32m     56\u001b[0m     \u001b[38;5;28;01mexcept\u001b[39;00m \u001b[38;5;167;01mException\u001b[39;00m \u001b[38;5;28;01mas\u001b[39;00m e:\n\u001b[1;32m     57\u001b[0m         \u001b[38;5;66;03m# Check if it is \"Task pending\". funcX throws an exception on pending.\u001b[39;00m\n\u001b[1;32m     58\u001b[0m         \u001b[38;5;28;01mif\u001b[39;00m e\u001b[38;5;241m.\u001b[39margs[\u001b[38;5;241m0\u001b[39m] \u001b[38;5;129;01min\u001b[39;00m \u001b[38;5;28mself\u001b[39m\u001b[38;5;241m.\u001b[39mpending_statuses:\n",
      "File \u001b[0;32m~/.local/lib/python3.10/site-packages/dlhub_sdk/client.py:346\u001b[0m, in \u001b[0;36mDLHubClient.get_result\u001b[0;34m(self, task_id, verbose)\u001b[0m\n\u001b[1;32m    336\u001b[0m \u001b[38;5;28;01mdef\u001b[39;00m \u001b[38;5;21mget_result\u001b[39m(\u001b[38;5;28mself\u001b[39m, task_id, verbose\u001b[38;5;241m=\u001b[39m\u001b[38;5;28;01mFalse\u001b[39;00m):\n\u001b[1;32m    337\u001b[0m \u001b[38;5;250m    \u001b[39m\u001b[38;5;124;03m\"\"\"Get the result of a task_id\u001b[39;00m\n\u001b[1;32m    338\u001b[0m \n\u001b[1;32m    339\u001b[0m \u001b[38;5;124;03m    Args:\u001b[39;00m\n\u001b[0;32m   (...)\u001b[0m\n\u001b[1;32m    343\u001b[0m \u001b[38;5;124;03m        Reult of running the servable\u001b[39;00m\n\u001b[1;32m    344\u001b[0m \u001b[38;5;124;03m    \"\"\"\u001b[39;00m\n\u001b[0;32m--> 346\u001b[0m     result \u001b[38;5;241m=\u001b[39m \u001b[38;5;28;43mself\u001b[39;49m\u001b[38;5;241;43m.\u001b[39;49m\u001b[43m_fx_client\u001b[49m\u001b[38;5;241;43m.\u001b[39;49m\u001b[43mget_result\u001b[49m\u001b[43m(\u001b[49m\u001b[43mtask_id\u001b[49m\u001b[43m)\u001b[49m\n\u001b[1;32m    347\u001b[0m     \u001b[38;5;28;01mif\u001b[39;00m \u001b[38;5;28misinstance\u001b[39m(result, \u001b[38;5;28mtuple\u001b[39m) \u001b[38;5;129;01mand\u001b[39;00m \u001b[38;5;129;01mnot\u001b[39;00m verbose:\n\u001b[1;32m    348\u001b[0m         result \u001b[38;5;241m=\u001b[39m result[\u001b[38;5;241m0\u001b[39m]\n",
      "File \u001b[0;32m~/.local/lib/python3.10/site-packages/funcx/sdk/login_manager/decorators.py:17\u001b[0m, in \u001b[0;36mrequires_login.<locals>.wrapper\u001b[0;34m(self, *args, **kwargs)\u001b[0m\n\u001b[1;32m     14\u001b[0m \u001b[38;5;129m@functools\u001b[39m\u001b[38;5;241m.\u001b[39mwraps(func)\n\u001b[1;32m     15\u001b[0m \u001b[38;5;28;01mdef\u001b[39;00m \u001b[38;5;21mwrapper\u001b[39m(\u001b[38;5;28mself\u001b[39m, \u001b[38;5;241m*\u001b[39margs, \u001b[38;5;241m*\u001b[39m\u001b[38;5;241m*\u001b[39mkwargs):\n\u001b[1;32m     16\u001b[0m     \u001b[38;5;28;01mtry\u001b[39;00m:\n\u001b[0;32m---> 17\u001b[0m         \u001b[38;5;28;01mreturn\u001b[39;00m \u001b[43mfunc\u001b[49m\u001b[43m(\u001b[49m\u001b[38;5;28;43mself\u001b[39;49m\u001b[43m,\u001b[49m\u001b[43m \u001b[49m\u001b[38;5;241;43m*\u001b[39;49m\u001b[43margs\u001b[49m\u001b[43m,\u001b[49m\u001b[43m \u001b[49m\u001b[38;5;241;43m*\u001b[39;49m\u001b[38;5;241;43m*\u001b[39;49m\u001b[43mkwargs\u001b[49m\u001b[43m)\u001b[49m\n\u001b[1;32m     18\u001b[0m     \u001b[38;5;28;01mexcept\u001b[39;00m globus_sdk\u001b[38;5;241m.\u001b[39mAuthAPIError \u001b[38;5;28;01mas\u001b[39;00m e:\n\u001b[1;32m     19\u001b[0m         log\u001b[38;5;241m.\u001b[39mdebug(\n\u001b[1;32m     20\u001b[0m             \u001b[38;5;124m\"\u001b[39m\u001b[38;5;124mUnauthorized API call (callable: \u001b[39m\u001b[38;5;132;01m%s\u001b[39;00m\u001b[38;5;124m).  Exception text: \u001b[39m\u001b[38;5;132;01m%s\u001b[39;00m\u001b[38;5;124m\"\u001b[39m,\n\u001b[1;32m     21\u001b[0m             func\u001b[38;5;241m.\u001b[39m\u001b[38;5;18m__name__\u001b[39m,\n\u001b[1;32m     22\u001b[0m             e,\n\u001b[1;32m     23\u001b[0m         )\n",
      "File \u001b[0;32m~/.local/lib/python3.10/site-packages/funcx/sdk/client.py:309\u001b[0m, in \u001b[0;36mFuncXClient.get_result\u001b[0;34m(self, task_id)\u001b[0m\n\u001b[1;32m    292\u001b[0m \u001b[38;5;129m@requires_login\u001b[39m\n\u001b[1;32m    293\u001b[0m \u001b[38;5;28;01mdef\u001b[39;00m \u001b[38;5;21mget_result\u001b[39m(\u001b[38;5;28mself\u001b[39m, task_id):\n\u001b[1;32m    294\u001b[0m \u001b[38;5;250m    \u001b[39m\u001b[38;5;124;03m\"\"\"Get the result of a funcX task\u001b[39;00m\n\u001b[1;32m    295\u001b[0m \n\u001b[1;32m    296\u001b[0m \u001b[38;5;124;03m    Parameters\u001b[39;00m\n\u001b[0;32m   (...)\u001b[0m\n\u001b[1;32m    307\u001b[0m \u001b[38;5;124;03m    Exception obj: Exception due to which the task failed\u001b[39;00m\n\u001b[1;32m    308\u001b[0m \u001b[38;5;124;03m    \"\"\"\u001b[39;00m\n\u001b[0;32m--> 309\u001b[0m     task \u001b[38;5;241m=\u001b[39m \u001b[38;5;28;43mself\u001b[39;49m\u001b[38;5;241;43m.\u001b[39;49m\u001b[43mget_task\u001b[49m\u001b[43m(\u001b[49m\u001b[43mtask_id\u001b[49m\u001b[43m)\u001b[49m\n\u001b[1;32m    310\u001b[0m     \u001b[38;5;28;01mif\u001b[39;00m task[\u001b[38;5;124m\"\u001b[39m\u001b[38;5;124mpending\u001b[39m\u001b[38;5;124m\"\u001b[39m] \u001b[38;5;129;01mis\u001b[39;00m \u001b[38;5;28;01mTrue\u001b[39;00m:\n\u001b[1;32m    311\u001b[0m         \u001b[38;5;28;01mraise\u001b[39;00m TaskPending(task[\u001b[38;5;124m\"\u001b[39m\u001b[38;5;124mstatus\u001b[39m\u001b[38;5;124m\"\u001b[39m])\n",
      "File \u001b[0;32m~/.local/lib/python3.10/site-packages/funcx/sdk/login_manager/decorators.py:17\u001b[0m, in \u001b[0;36mrequires_login.<locals>.wrapper\u001b[0;34m(self, *args, **kwargs)\u001b[0m\n\u001b[1;32m     14\u001b[0m \u001b[38;5;129m@functools\u001b[39m\u001b[38;5;241m.\u001b[39mwraps(func)\n\u001b[1;32m     15\u001b[0m \u001b[38;5;28;01mdef\u001b[39;00m \u001b[38;5;21mwrapper\u001b[39m(\u001b[38;5;28mself\u001b[39m, \u001b[38;5;241m*\u001b[39margs, \u001b[38;5;241m*\u001b[39m\u001b[38;5;241m*\u001b[39mkwargs):\n\u001b[1;32m     16\u001b[0m     \u001b[38;5;28;01mtry\u001b[39;00m:\n\u001b[0;32m---> 17\u001b[0m         \u001b[38;5;28;01mreturn\u001b[39;00m \u001b[43mfunc\u001b[49m\u001b[43m(\u001b[49m\u001b[38;5;28;43mself\u001b[39;49m\u001b[43m,\u001b[49m\u001b[43m \u001b[49m\u001b[38;5;241;43m*\u001b[39;49m\u001b[43margs\u001b[49m\u001b[43m,\u001b[49m\u001b[43m \u001b[49m\u001b[38;5;241;43m*\u001b[39;49m\u001b[38;5;241;43m*\u001b[39;49m\u001b[43mkwargs\u001b[49m\u001b[43m)\u001b[49m\n\u001b[1;32m     18\u001b[0m     \u001b[38;5;28;01mexcept\u001b[39;00m globus_sdk\u001b[38;5;241m.\u001b[39mAuthAPIError \u001b[38;5;28;01mas\u001b[39;00m e:\n\u001b[1;32m     19\u001b[0m         log\u001b[38;5;241m.\u001b[39mdebug(\n\u001b[1;32m     20\u001b[0m             \u001b[38;5;124m\"\u001b[39m\u001b[38;5;124mUnauthorized API call (callable: \u001b[39m\u001b[38;5;132;01m%s\u001b[39;00m\u001b[38;5;124m).  Exception text: \u001b[39m\u001b[38;5;132;01m%s\u001b[39;00m\u001b[38;5;124m\"\u001b[39m,\n\u001b[1;32m     21\u001b[0m             func\u001b[38;5;241m.\u001b[39m\u001b[38;5;18m__name__\u001b[39m,\n\u001b[1;32m     22\u001b[0m             e,\n\u001b[1;32m     23\u001b[0m         )\n",
      "File \u001b[0;32m~/.local/lib/python3.10/site-packages/funcx/sdk/client.py:289\u001b[0m, in \u001b[0;36mFuncXClient.get_task\u001b[0;34m(self, task_id)\u001b[0m\n\u001b[1;32m    287\u001b[0m r \u001b[38;5;241m=\u001b[39m \u001b[38;5;28mself\u001b[39m\u001b[38;5;241m.\u001b[39mweb_client\u001b[38;5;241m.\u001b[39mget_task(task_id)\n\u001b[1;32m    288\u001b[0m logger\u001b[38;5;241m.\u001b[39mdebug(\u001b[38;5;124mf\u001b[39m\u001b[38;5;124m\"\u001b[39m\u001b[38;5;124mResponse string : \u001b[39m\u001b[38;5;132;01m{\u001b[39;00mr\u001b[38;5;132;01m}\u001b[39;00m\u001b[38;5;124m\"\u001b[39m)\n\u001b[0;32m--> 289\u001b[0m rets \u001b[38;5;241m=\u001b[39m \u001b[38;5;28;43mself\u001b[39;49m\u001b[38;5;241;43m.\u001b[39;49m\u001b[43m_update_task_table\u001b[49m\u001b[43m(\u001b[49m\u001b[43mr\u001b[49m\u001b[38;5;241;43m.\u001b[39;49m\u001b[43mtext\u001b[49m\u001b[43m,\u001b[49m\u001b[43m \u001b[49m\u001b[43mtask_id\u001b[49m\u001b[43m)\u001b[49m\n\u001b[1;32m    290\u001b[0m \u001b[38;5;28;01mreturn\u001b[39;00m rets\n",
      "File \u001b[0;32m~/.local/lib/python3.10/site-packages/funcx/sdk/client.py:262\u001b[0m, in \u001b[0;36mFuncXClient._update_task_table\u001b[0;34m(self, return_msg, task_id)\u001b[0m\n\u001b[1;32m    260\u001b[0m         status\u001b[38;5;241m.\u001b[39mupdate({\u001b[38;5;124m\"\u001b[39m\u001b[38;5;124mresult\u001b[39m\u001b[38;5;124m\"\u001b[39m: r_obj, \u001b[38;5;124m\"\u001b[39m\u001b[38;5;124mcompletion_t\u001b[39m\u001b[38;5;124m\"\u001b[39m: completion_t})\n\u001b[1;32m    261\u001b[0m \u001b[38;5;28;01melif\u001b[39;00m \u001b[38;5;124m\"\u001b[39m\u001b[38;5;124mexception\u001b[39m\u001b[38;5;124m\"\u001b[39m \u001b[38;5;129;01min\u001b[39;00m r_dict:\n\u001b[0;32m--> 262\u001b[0m     \u001b[38;5;28;01mraise\u001b[39;00m FuncxTaskExecutionFailed(r_dict[\u001b[38;5;124m\"\u001b[39m\u001b[38;5;124mexception\u001b[39m\u001b[38;5;124m\"\u001b[39m], completion_t)\n\u001b[1;32m    263\u001b[0m \u001b[38;5;28;01melse\u001b[39;00m:\n\u001b[1;32m    264\u001b[0m     \u001b[38;5;28;01mraise\u001b[39;00m \u001b[38;5;167;01mNotImplementedError\u001b[39;00m(\u001b[38;5;124m\"\u001b[39m\u001b[38;5;124munreachable\u001b[39m\u001b[38;5;124m\"\u001b[39m)\n",
      "\u001b[0;31mFuncxTaskExecutionFailed\u001b[0m: \n    Traceback (most recent call last):\n      File \"/srv/conda/envs/notebook/lib/python3.7/site-packages/funcx/serialize/facade.py\", line 116, in unpack_and_deserialize\n        deserialized = self.deserialize(current)\n      File \"/srv/conda/envs/notebook/lib/python3.7/site-packages/funcx/serialize/facade.py\", line 69, in deserialize\n        result = self.methods_for_data[header].deserialize(payload)\n      File \"/srv/conda/envs/notebook/lib/python3.7/site-packages/funcx/serialize/concretes.py\", line 29, in deserialize\n        data = dill.loads(codecs.decode(chomped.encode(), \"base64\"))\n      File \"/srv/conda/envs/notebook/lib/python3.7/site-packages/dill/_dill.py\", line 387, in loads\n        return load(file, ignore, **kwds)\n      File \"/srv/conda/envs/notebook/lib/python3.7/site-packages/dill/_dill.py\", line 373, in load\n        return Unpickler(file, ignore=ignore, **kwds).load()\n      File \"/srv/conda/envs/notebook/lib/python3.7/site-packages/dill/_dill.py\", line 646, in load\n        obj = StockUnpickler.load(self)\n      File \"/srv/conda/envs/notebook/lib/python3.7/site-packages/dill/_dill.py\", line 636, in find_class\n        return StockUnpickler.find_class(self, module, name)\n    AttributeError: Can't get attribute '_unpickle_block' on <module 'pandas._libs.internals' from '/srv/conda/envs/notebook/lib/python3.7/site-packages/pandas/_libs/internals.cpython-37m-x86_64-linux-gnu.so'>\n"
     ]
    }
   ],
   "source": [
    "# This model takes as input 2 elements, the first is the host and the second is an impurity, and it returns the activation energy for impurity diffusion.\n",
    "# For example, the input CuAg gives the activation energy of dilute Ag in a Cu host.\n",
    "X_test = pd.DataFrame({'Material compositions joined': ['CuAl', 'NiAl', 'HeH', 'NiSi', 'PtPd']})\n",
    "# Info on input format\n",
    "# DLHubClient().describe_servable(dlhub_servable)\n",
    "input_dict = {'X_test': X_test, #X_test_Ag_nofeatures\n",
    "              'X_test_extra': X_test, #X_extra_Ag\n",
    "             'featurize': True,\n",
    "             'featurizer': 'ElementalFeatureGenerator',\n",
    "             'featurize_on': 'Material compositions joined',\n",
    "              'composition_df': X_test['Material compositions joined'] #X_test_Ag_nofeatures['Material compositions joined']\n",
    "             }\n",
    "#dlhub_servable = MY_USERNAME+'/'+model_name\n",
    "pred_df = DLHubClient().run(name=dlhub_servable, inputs=input_dict, debug=False, validate_input=False)\n",
    "pred_df"
   ]
  },
  {
   "cell_type": "code",
   "execution_count": null,
   "metadata": {},
   "outputs": [],
   "source": []
  }
 ],
 "metadata": {
  "colab": {
   "provenance": []
  },
  "kernelspec": {
   "display_name": "Python 3 (ipykernel)",
   "language": "python",
   "name": "python3"
  },
  "language_info": {
   "codemirror_mode": {
    "name": "ipython",
    "version": 3
   },
   "file_extension": ".py",
   "mimetype": "text/x-python",
   "name": "python",
   "nbconvert_exporter": "python",
   "pygments_lexer": "ipython3",
   "version": "3.10.6"
  }
 },
 "nbformat": 4,
 "nbformat_minor": 1
}
